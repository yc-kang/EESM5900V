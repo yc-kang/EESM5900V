{
 "cells": [
  {
   "cell_type": "code",
   "execution_count": 1,
   "id": "aa0626d8-47e7-4176-b4c7-676d3baaf442",
   "metadata": {},
   "outputs": [
    {
     "name": "stdout",
     "output_type": "stream",
     "text": [
      "Namespace(image_size=32, conv_dim=32, noise_size=100, num_epochs=30, batch_size=16, num_workers=0, lr=0.001, beta1=0.5, beta2=0.999, emoji='Apple', checkpoint_dir='./checkpoints_vanilla', sample_dir='./samples_vanilla', log_step=10, sample_every=200, checkpoint_every=400)\n",
      "Iteration [  10/4230] | D_real_loss: 0.0038 | D_fake_loss: 0.0022 | G_loss: 0.8729\n",
      "Iteration [  20/4230] | D_real_loss: 0.0117 | D_fake_loss: 0.0000 | G_loss: 0.9950\n",
      "Iteration [  30/4230] | D_real_loss: 0.0288 | D_fake_loss: 0.0000 | G_loss: 0.9989\n",
      "Iteration [  40/4230] | D_real_loss: 0.0001 | D_fake_loss: 0.0000 | G_loss: 0.9979\n",
      "Iteration [  50/4230] | D_real_loss: 0.0000 | D_fake_loss: 0.0000 | G_loss: 0.9973\n",
      "Iteration [  60/4230] | D_real_loss: 0.0001 | D_fake_loss: 0.0000 | G_loss: 0.9943\n",
      "Iteration [  70/4230] | D_real_loss: 0.0000 | D_fake_loss: 0.0000 | G_loss: 0.9967\n",
      "Iteration [  80/4230] | D_real_loss: 0.0015 | D_fake_loss: 0.0000 | G_loss: 0.9990\n",
      "Iteration [  90/4230] | D_real_loss: 0.0000 | D_fake_loss: 0.0000 | G_loss: 0.9970\n",
      "Iteration [ 100/4230] | D_real_loss: 0.0003 | D_fake_loss: 0.0000 | G_loss: 0.9992\n",
      "Iteration [ 110/4230] | D_real_loss: 0.0001 | D_fake_loss: 0.0000 | G_loss: 0.9988\n",
      "Iteration [ 120/4230] | D_real_loss: 0.0001 | D_fake_loss: 0.0000 | G_loss: 0.9985\n",
      "Iteration [ 130/4230] | D_real_loss: 0.0000 | D_fake_loss: 0.0000 | G_loss: 0.9977\n",
      "Iteration [ 140/4230] | D_real_loss: 0.0000 | D_fake_loss: 0.0005 | G_loss: 0.9479\n",
      "Iteration [ 150/4230] | D_real_loss: 0.0000 | D_fake_loss: 0.0002 | G_loss: 0.9655\n",
      "Iteration [ 160/4230] | D_real_loss: 0.0000 | D_fake_loss: 0.0000 | G_loss: 0.9997\n",
      "Iteration [ 170/4230] | D_real_loss: 0.0001 | D_fake_loss: 0.0000 | G_loss: 0.9996\n",
      "Iteration [ 180/4230] | D_real_loss: 0.0000 | D_fake_loss: 0.0000 | G_loss: 0.9995\n",
      "Iteration [ 190/4230] | D_real_loss: 0.0000 | D_fake_loss: 0.0000 | G_loss: 0.9994\n"
     ]
    },
    {
     "name": "stderr",
     "output_type": "stream",
     "text": [
      "Lossy conversion from float32 to uint8. Range [-0.9956546425819397, 0.999346911907196]. Convert image to uint8 prior to saving to suppress this warning.\n"
     ]
    },
    {
     "name": "stdout",
     "output_type": "stream",
     "text": [
      "Iteration [ 200/4230] | D_real_loss: 0.0000 | D_fake_loss: 0.0000 | G_loss: 0.9992\n",
      "Saved ./samples_vanilla\\sample-000200.png\n",
      "Iteration [ 210/4230] | D_real_loss: 0.0000 | D_fake_loss: 0.0000 | G_loss: 0.9984\n",
      "Iteration [ 220/4230] | D_real_loss: 0.0047 | D_fake_loss: 0.0000 | G_loss: 0.9996\n",
      "Iteration [ 230/4230] | D_real_loss: 0.0000 | D_fake_loss: 0.0000 | G_loss: 0.9992\n",
      "Iteration [ 240/4230] | D_real_loss: 0.0000 | D_fake_loss: 0.0000 | G_loss: 0.9987\n",
      "Iteration [ 250/4230] | D_real_loss: 0.0000 | D_fake_loss: 0.4556 | G_loss: 0.6959\n",
      "Iteration [ 260/4230] | D_real_loss: 0.0128 | D_fake_loss: 0.0000 | G_loss: 0.9999\n",
      "Iteration [ 270/4230] | D_real_loss: 0.0000 | D_fake_loss: 0.0000 | G_loss: 0.9999\n",
      "Iteration [ 280/4230] | D_real_loss: 0.0000 | D_fake_loss: 0.0000 | G_loss: 0.9999\n",
      "Iteration [ 290/4230] | D_real_loss: 0.0000 | D_fake_loss: 0.0000 | G_loss: 0.9999\n",
      "Iteration [ 300/4230] | D_real_loss: 0.0002 | D_fake_loss: 0.0000 | G_loss: 0.9999\n",
      "Iteration [ 310/4230] | D_real_loss: 0.0000 | D_fake_loss: 0.0000 | G_loss: 0.9999\n",
      "Iteration [ 320/4230] | D_real_loss: 0.0000 | D_fake_loss: 0.0000 | G_loss: 0.9999\n",
      "Iteration [ 330/4230] | D_real_loss: 0.0000 | D_fake_loss: 0.0000 | G_loss: 0.9999\n",
      "Iteration [ 340/4230] | D_real_loss: 0.0000 | D_fake_loss: 0.0000 | G_loss: 0.9999\n",
      "Iteration [ 350/4230] | D_real_loss: 0.0000 | D_fake_loss: 0.0000 | G_loss: 0.9998\n",
      "Iteration [ 360/4230] | D_real_loss: 0.0000 | D_fake_loss: 0.0000 | G_loss: 0.9998\n",
      "Iteration [ 370/4230] | D_real_loss: 0.0000 | D_fake_loss: 0.0000 | G_loss: 0.9998\n",
      "Iteration [ 380/4230] | D_real_loss: 0.0000 | D_fake_loss: 0.0000 | G_loss: 0.9998\n",
      "Iteration [ 390/4230] | D_real_loss: 0.0000 | D_fake_loss: 0.0000 | G_loss: 0.9998\n"
     ]
    },
    {
     "name": "stderr",
     "output_type": "stream",
     "text": [
      "Lossy conversion from float32 to uint8. Range [-0.9998788237571716, 0.9993724822998047]. Convert image to uint8 prior to saving to suppress this warning.\n"
     ]
    },
    {
     "name": "stdout",
     "output_type": "stream",
     "text": [
      "Iteration [ 400/4230] | D_real_loss: 0.0000 | D_fake_loss: 0.0000 | G_loss: 0.9997\n",
      "Saved ./samples_vanilla\\sample-000400.png\n",
      "Iteration [ 410/4230] | D_real_loss: 0.0000 | D_fake_loss: 0.0000 | G_loss: 0.9996\n",
      "Iteration [ 420/4230] | D_real_loss: 0.0001 | D_fake_loss: 0.0000 | G_loss: 0.9993\n",
      "Iteration [ 430/4230] | D_real_loss: 0.0000 | D_fake_loss: 0.0000 | G_loss: 0.9976\n",
      "Iteration [ 440/4230] | D_real_loss: 0.0001 | D_fake_loss: 0.0000 | G_loss: 0.9999\n",
      "Iteration [ 450/4230] | D_real_loss: 0.0001 | D_fake_loss: 0.0000 | G_loss: 0.9999\n",
      "Iteration [ 460/4230] | D_real_loss: 0.0000 | D_fake_loss: 0.0000 | G_loss: 0.9998\n",
      "Iteration [ 470/4230] | D_real_loss: 0.0004 | D_fake_loss: 0.0000 | G_loss: 0.9997\n",
      "Iteration [ 480/4230] | D_real_loss: 0.0000 | D_fake_loss: 0.0000 | G_loss: 0.9976\n",
      "Iteration [ 490/4230] | D_real_loss: 0.0000 | D_fake_loss: 0.0000 | G_loss: 1.0000\n",
      "Iteration [ 500/4230] | D_real_loss: 0.0000 | D_fake_loss: 0.0000 | G_loss: 1.0000\n",
      "Iteration [ 510/4230] | D_real_loss: 0.0000 | D_fake_loss: 0.0000 | G_loss: 1.0000\n",
      "Iteration [ 520/4230] | D_real_loss: 0.0000 | D_fake_loss: 0.0000 | G_loss: 1.0000\n",
      "Iteration [ 530/4230] | D_real_loss: 0.0000 | D_fake_loss: 0.0000 | G_loss: 1.0000\n",
      "Iteration [ 540/4230] | D_real_loss: 0.0000 | D_fake_loss: 0.0000 | G_loss: 1.0000\n",
      "Iteration [ 550/4230] | D_real_loss: 0.0000 | D_fake_loss: 0.0000 | G_loss: 1.0000\n",
      "Iteration [ 560/4230] | D_real_loss: 0.0000 | D_fake_loss: 0.0000 | G_loss: 1.0000\n",
      "Iteration [ 570/4230] | D_real_loss: 0.0000 | D_fake_loss: 0.0000 | G_loss: 1.0000\n",
      "Iteration [ 580/4230] | D_real_loss: 0.0000 | D_fake_loss: 0.0000 | G_loss: 1.0000\n",
      "Iteration [ 590/4230] | D_real_loss: 0.0000 | D_fake_loss: 0.0000 | G_loss: 1.0000\n"
     ]
    },
    {
     "name": "stderr",
     "output_type": "stream",
     "text": [
      "Lossy conversion from float32 to uint8. Range [-0.999848484992981, 0.997970461845398]. Convert image to uint8 prior to saving to suppress this warning.\n"
     ]
    },
    {
     "name": "stdout",
     "output_type": "stream",
     "text": [
      "Iteration [ 600/4230] | D_real_loss: 0.0000 | D_fake_loss: 0.0000 | G_loss: 1.0000\n",
      "Saved ./samples_vanilla\\sample-000600.png\n",
      "Iteration [ 610/4230] | D_real_loss: 0.0000 | D_fake_loss: 0.0000 | G_loss: 0.9999\n",
      "Iteration [ 620/4230] | D_real_loss: 0.0001 | D_fake_loss: 0.0000 | G_loss: 1.0000\n",
      "Iteration [ 630/4230] | D_real_loss: 0.0000 | D_fake_loss: 0.0000 | G_loss: 1.0000\n",
      "Iteration [ 640/4230] | D_real_loss: 0.0000 | D_fake_loss: 0.0000 | G_loss: 0.9999\n",
      "Iteration [ 650/4230] | D_real_loss: 0.0000 | D_fake_loss: 0.0000 | G_loss: 0.9999\n",
      "Iteration [ 660/4230] | D_real_loss: 0.0000 | D_fake_loss: 0.0000 | G_loss: 0.9999\n",
      "Iteration [ 670/4230] | D_real_loss: 0.0000 | D_fake_loss: 0.0000 | G_loss: 0.9999\n",
      "Iteration [ 680/4230] | D_real_loss: 0.0000 | D_fake_loss: 0.0000 | G_loss: 0.9999\n",
      "Iteration [ 690/4230] | D_real_loss: 0.0000 | D_fake_loss: 0.0000 | G_loss: 0.9999\n",
      "Iteration [ 700/4230] | D_real_loss: 0.0000 | D_fake_loss: 0.0000 | G_loss: 0.9999\n",
      "Iteration [ 710/4230] | D_real_loss: 0.0000 | D_fake_loss: 0.0000 | G_loss: 0.9998\n",
      "Iteration [ 720/4230] | D_real_loss: 0.0000 | D_fake_loss: 0.0000 | G_loss: 0.9997\n",
      "Iteration [ 730/4230] | D_real_loss: 0.0000 | D_fake_loss: 0.0000 | G_loss: 0.9975\n",
      "Iteration [ 740/4230] | D_real_loss: 0.0004 | D_fake_loss: 0.0000 | G_loss: 0.9990\n",
      "Iteration [ 750/4230] | D_real_loss: 0.2376 | D_fake_loss: 0.0000 | G_loss: 0.9995\n",
      "Iteration [ 760/4230] | D_real_loss: 0.0005 | D_fake_loss: 0.0000 | G_loss: 1.0000\n",
      "Iteration [ 770/4230] | D_real_loss: 0.0000 | D_fake_loss: 0.0000 | G_loss: 1.0000\n",
      "Iteration [ 780/4230] | D_real_loss: 0.0000 | D_fake_loss: 0.0000 | G_loss: 1.0000\n",
      "Iteration [ 790/4230] | D_real_loss: 0.0000 | D_fake_loss: 0.0000 | G_loss: 1.0000\n"
     ]
    },
    {
     "name": "stderr",
     "output_type": "stream",
     "text": [
      "Lossy conversion from float32 to uint8. Range [-0.9998034238815308, 0.999849796295166]. Convert image to uint8 prior to saving to suppress this warning.\n"
     ]
    },
    {
     "name": "stdout",
     "output_type": "stream",
     "text": [
      "Iteration [ 800/4230] | D_real_loss: 0.0000 | D_fake_loss: 0.0000 | G_loss: 1.0000\n",
      "Saved ./samples_vanilla\\sample-000800.png\n",
      "Iteration [ 810/4230] | D_real_loss: 0.0000 | D_fake_loss: 0.0000 | G_loss: 1.0000\n",
      "Iteration [ 820/4230] | D_real_loss: 0.0000 | D_fake_loss: 0.0000 | G_loss: 1.0000\n",
      "Iteration [ 830/4230] | D_real_loss: 0.0000 | D_fake_loss: 0.0000 | G_loss: 1.0000\n",
      "Iteration [ 840/4230] | D_real_loss: 0.0000 | D_fake_loss: 0.0000 | G_loss: 1.0000\n",
      "Iteration [ 850/4230] | D_real_loss: 0.0000 | D_fake_loss: 0.0000 | G_loss: 1.0000\n",
      "Iteration [ 860/4230] | D_real_loss: 0.0000 | D_fake_loss: 0.0000 | G_loss: 1.0000\n",
      "Iteration [ 870/4230] | D_real_loss: 0.0000 | D_fake_loss: 0.0000 | G_loss: 1.0000\n",
      "Iteration [ 880/4230] | D_real_loss: 0.0000 | D_fake_loss: 0.0000 | G_loss: 1.0000\n",
      "Iteration [ 890/4230] | D_real_loss: 0.0000 | D_fake_loss: 0.0000 | G_loss: 1.0000\n",
      "Iteration [ 900/4230] | D_real_loss: 0.0000 | D_fake_loss: 0.0000 | G_loss: 1.0000\n",
      "Iteration [ 910/4230] | D_real_loss: 0.0000 | D_fake_loss: 0.0000 | G_loss: 1.0000\n",
      "Iteration [ 920/4230] | D_real_loss: 0.0000 | D_fake_loss: 0.0000 | G_loss: 1.0000\n",
      "Iteration [ 930/4230] | D_real_loss: 0.0000 | D_fake_loss: 0.0000 | G_loss: 1.0000\n",
      "Iteration [ 940/4230] | D_real_loss: 0.0000 | D_fake_loss: 0.0000 | G_loss: 1.0000\n",
      "Iteration [ 950/4230] | D_real_loss: 0.0000 | D_fake_loss: 0.0000 | G_loss: 1.0000\n",
      "Iteration [ 960/4230] | D_real_loss: 0.0000 | D_fake_loss: 0.0000 | G_loss: 1.0000\n",
      "Iteration [ 970/4230] | D_real_loss: 0.0000 | D_fake_loss: 0.0000 | G_loss: 1.0000\n",
      "Iteration [ 980/4230] | D_real_loss: 0.0000 | D_fake_loss: 0.0000 | G_loss: 1.0000\n",
      "Iteration [ 990/4230] | D_real_loss: 0.0000 | D_fake_loss: 0.0000 | G_loss: 1.0000\n"
     ]
    },
    {
     "name": "stderr",
     "output_type": "stream",
     "text": [
      "Lossy conversion from float32 to uint8. Range [-0.9998084902763367, 0.9998446702957153]. Convert image to uint8 prior to saving to suppress this warning.\n"
     ]
    },
    {
     "name": "stdout",
     "output_type": "stream",
     "text": [
      "Iteration [1000/4230] | D_real_loss: 0.0000 | D_fake_loss: 0.0000 | G_loss: 1.0000\n",
      "Saved ./samples_vanilla\\sample-001000.png\n",
      "Iteration [1010/4230] | D_real_loss: 0.0000 | D_fake_loss: 0.0000 | G_loss: 1.0000\n",
      "Iteration [1020/4230] | D_real_loss: 0.0000 | D_fake_loss: 0.0000 | G_loss: 1.0000\n",
      "Iteration [1030/4230] | D_real_loss: 0.0000 | D_fake_loss: 0.0000 | G_loss: 1.0000\n",
      "Iteration [1040/4230] | D_real_loss: 0.0000 | D_fake_loss: 0.0000 | G_loss: 1.0000\n",
      "Iteration [1050/4230] | D_real_loss: 0.0000 | D_fake_loss: 0.0000 | G_loss: 1.0000\n",
      "Iteration [1060/4230] | D_real_loss: 0.0000 | D_fake_loss: 0.0000 | G_loss: 1.0000\n",
      "Iteration [1070/4230] | D_real_loss: 0.0000 | D_fake_loss: 0.0000 | G_loss: 1.0000\n",
      "Iteration [1080/4230] | D_real_loss: 0.0000 | D_fake_loss: 0.0000 | G_loss: 1.0000\n",
      "Iteration [1090/4230] | D_real_loss: 0.0000 | D_fake_loss: 0.0000 | G_loss: 1.0000\n",
      "Iteration [1100/4230] | D_real_loss: 0.0000 | D_fake_loss: 0.0000 | G_loss: 1.0000\n",
      "Iteration [1110/4230] | D_real_loss: 0.0000 | D_fake_loss: 0.0000 | G_loss: 1.0000\n",
      "Iteration [1120/4230] | D_real_loss: 0.0000 | D_fake_loss: 0.0000 | G_loss: 1.0000\n",
      "Iteration [1130/4230] | D_real_loss: 0.0000 | D_fake_loss: 0.0000 | G_loss: 1.0000\n",
      "Iteration [1140/4230] | D_real_loss: 0.0000 | D_fake_loss: 0.0000 | G_loss: 1.0000\n",
      "Iteration [1150/4230] | D_real_loss: 0.0000 | D_fake_loss: 0.0000 | G_loss: 1.0000\n",
      "Iteration [1160/4230] | D_real_loss: 0.0000 | D_fake_loss: 0.0000 | G_loss: 1.0000\n",
      "Iteration [1170/4230] | D_real_loss: 0.0000 | D_fake_loss: 0.0000 | G_loss: 1.0000\n",
      "Iteration [1180/4230] | D_real_loss: 0.0000 | D_fake_loss: 0.0000 | G_loss: 1.0000\n",
      "Iteration [1190/4230] | D_real_loss: 0.0000 | D_fake_loss: 0.0000 | G_loss: 1.0000\n"
     ]
    },
    {
     "name": "stderr",
     "output_type": "stream",
     "text": [
      "Lossy conversion from float32 to uint8. Range [-0.9998157620429993, 0.9998341202735901]. Convert image to uint8 prior to saving to suppress this warning.\n"
     ]
    },
    {
     "name": "stdout",
     "output_type": "stream",
     "text": [
      "Iteration [1200/4230] | D_real_loss: 0.0000 | D_fake_loss: 0.0000 | G_loss: 1.0000\n",
      "Saved ./samples_vanilla\\sample-001200.png\n",
      "Iteration [1210/4230] | D_real_loss: 0.0000 | D_fake_loss: 0.0000 | G_loss: 1.0000\n",
      "Iteration [1220/4230] | D_real_loss: 0.0000 | D_fake_loss: 0.0000 | G_loss: 1.0000\n",
      "Iteration [1230/4230] | D_real_loss: 0.0000 | D_fake_loss: 0.0000 | G_loss: 1.0000\n",
      "Iteration [1240/4230] | D_real_loss: 0.0000 | D_fake_loss: 0.0000 | G_loss: 1.0000\n",
      "Iteration [1250/4230] | D_real_loss: 0.0000 | D_fake_loss: 0.0000 | G_loss: 1.0000\n",
      "Iteration [1260/4230] | D_real_loss: 0.0000 | D_fake_loss: 0.0000 | G_loss: 1.0000\n",
      "Iteration [1270/4230] | D_real_loss: 0.0000 | D_fake_loss: 0.0000 | G_loss: 1.0000\n",
      "Iteration [1280/4230] | D_real_loss: 0.0000 | D_fake_loss: 0.0000 | G_loss: 1.0000\n",
      "Iteration [1290/4230] | D_real_loss: 0.0000 | D_fake_loss: 0.0000 | G_loss: 1.0000\n",
      "Iteration [1300/4230] | D_real_loss: 0.0000 | D_fake_loss: 0.0000 | G_loss: 1.0000\n",
      "Iteration [1310/4230] | D_real_loss: 0.0000 | D_fake_loss: 0.0000 | G_loss: 1.0000\n",
      "Iteration [1320/4230] | D_real_loss: 0.0000 | D_fake_loss: 0.0000 | G_loss: 1.0000\n",
      "Iteration [1330/4230] | D_real_loss: 0.0000 | D_fake_loss: 0.0000 | G_loss: 1.0000\n",
      "Iteration [1340/4230] | D_real_loss: 0.0000 | D_fake_loss: 0.0000 | G_loss: 1.0000\n",
      "Iteration [1350/4230] | D_real_loss: 0.0000 | D_fake_loss: 0.0000 | G_loss: 1.0000\n",
      "Iteration [1360/4230] | D_real_loss: 0.0000 | D_fake_loss: 0.0000 | G_loss: 1.0000\n",
      "Iteration [1370/4230] | D_real_loss: 0.0000 | D_fake_loss: 0.0000 | G_loss: 1.0000\n",
      "Iteration [1380/4230] | D_real_loss: 0.0000 | D_fake_loss: 0.0000 | G_loss: 1.0000\n",
      "Iteration [1390/4230] | D_real_loss: 0.0000 | D_fake_loss: 0.0000 | G_loss: 1.0000\n"
     ]
    },
    {
     "name": "stderr",
     "output_type": "stream",
     "text": [
      "Lossy conversion from float32 to uint8. Range [-0.9998265504837036, 0.9998102784156799]. Convert image to uint8 prior to saving to suppress this warning.\n"
     ]
    },
    {
     "name": "stdout",
     "output_type": "stream",
     "text": [
      "Iteration [1400/4230] | D_real_loss: 0.0000 | D_fake_loss: 0.0000 | G_loss: 1.0000\n",
      "Saved ./samples_vanilla\\sample-001400.png\n",
      "Iteration [1410/4230] | D_real_loss: 0.0000 | D_fake_loss: 0.0000 | G_loss: 1.0000\n",
      "Iteration [1420/4230] | D_real_loss: 0.0000 | D_fake_loss: 0.0000 | G_loss: 1.0000\n",
      "Iteration [1430/4230] | D_real_loss: 0.0000 | D_fake_loss: 0.0000 | G_loss: 1.0000\n",
      "Iteration [1440/4230] | D_real_loss: 0.0000 | D_fake_loss: 0.0000 | G_loss: 1.0000\n",
      "Iteration [1450/4230] | D_real_loss: 0.0000 | D_fake_loss: 0.0000 | G_loss: 1.0000\n",
      "Iteration [1460/4230] | D_real_loss: 0.0000 | D_fake_loss: 0.0000 | G_loss: 1.0000\n",
      "Iteration [1470/4230] | D_real_loss: 0.0000 | D_fake_loss: 0.0000 | G_loss: 0.9999\n",
      "Iteration [1480/4230] | D_real_loss: 0.0000 | D_fake_loss: 0.0000 | G_loss: 0.9999\n",
      "Iteration [1490/4230] | D_real_loss: 0.0000 | D_fake_loss: 0.0000 | G_loss: 1.0000\n",
      "Iteration [1500/4230] | D_real_loss: 0.0000 | D_fake_loss: 0.0000 | G_loss: 0.9999\n",
      "Iteration [1510/4230] | D_real_loss: 0.0000 | D_fake_loss: 0.0000 | G_loss: 0.9999\n",
      "Iteration [1520/4230] | D_real_loss: 0.0000 | D_fake_loss: 0.0000 | G_loss: 0.9999\n",
      "Iteration [1530/4230] | D_real_loss: 0.0000 | D_fake_loss: 0.0000 | G_loss: 0.9999\n",
      "Iteration [1540/4230] | D_real_loss: 0.0000 | D_fake_loss: 0.0000 | G_loss: 0.9999\n",
      "Iteration [1550/4230] | D_real_loss: 0.0000 | D_fake_loss: 0.0000 | G_loss: 0.9998\n",
      "Iteration [1560/4230] | D_real_loss: 0.0000 | D_fake_loss: 0.0000 | G_loss: 0.9993\n",
      "Iteration [1570/4230] | D_real_loss: 0.0000 | D_fake_loss: 0.0000 | G_loss: 0.9980\n",
      "Iteration [1580/4230] | D_real_loss: 0.0000 | D_fake_loss: 0.0000 | G_loss: 0.9998\n",
      "Iteration [1590/4230] | D_real_loss: 0.0000 | D_fake_loss: 0.0000 | G_loss: 0.9998\n"
     ]
    },
    {
     "name": "stderr",
     "output_type": "stream",
     "text": [
      "Lossy conversion from float32 to uint8. Range [-0.9998676180839539, 0.9999690651893616]. Convert image to uint8 prior to saving to suppress this warning.\n"
     ]
    },
    {
     "name": "stdout",
     "output_type": "stream",
     "text": [
      "Iteration [1600/4230] | D_real_loss: 0.0000 | D_fake_loss: 0.0000 | G_loss: 0.9999\n",
      "Saved ./samples_vanilla\\sample-001600.png\n",
      "Iteration [1610/4230] | D_real_loss: 0.0000 | D_fake_loss: 0.0000 | G_loss: 0.9998\n",
      "Iteration [1620/4230] | D_real_loss: 0.0000 | D_fake_loss: 0.0000 | G_loss: 0.9997\n",
      "Iteration [1630/4230] | D_real_loss: 0.0000 | D_fake_loss: 0.0000 | G_loss: 0.9996\n",
      "Iteration [1640/4230] | D_real_loss: 0.0000 | D_fake_loss: 0.0000 | G_loss: 0.9877\n",
      "Iteration [1650/4230] | D_real_loss: 0.0000 | D_fake_loss: 0.0000 | G_loss: 0.9910\n",
      "Iteration [1660/4230] | D_real_loss: 0.0000 | D_fake_loss: 0.4996 | G_loss: 0.0000\n",
      "Iteration [1670/4230] | D_real_loss: 0.0606 | D_fake_loss: 0.0000 | G_loss: 1.0000\n",
      "Iteration [1680/4230] | D_real_loss: 0.0000 | D_fake_loss: 0.0000 | G_loss: 0.9986\n",
      "Iteration [1690/4230] | D_real_loss: 0.0015 | D_fake_loss: 0.0000 | G_loss: 0.9971\n",
      "Iteration [1700/4230] | D_real_loss: 0.0004 | D_fake_loss: 0.0000 | G_loss: 0.9992\n",
      "Iteration [1710/4230] | D_real_loss: 0.0012 | D_fake_loss: 0.0009 | G_loss: 0.9435\n",
      "Iteration [1720/4230] | D_real_loss: 0.0032 | D_fake_loss: 0.4562 | G_loss: 0.0795\n",
      "Iteration [1730/4230] | D_real_loss: 0.2878 | D_fake_loss: 0.0008 | G_loss: 0.8815\n",
      "Iteration [1740/4230] | D_real_loss: 0.0021 | D_fake_loss: 0.0238 | G_loss: 0.9649\n",
      "Iteration [1750/4230] | D_real_loss: 0.0004 | D_fake_loss: 0.0001 | G_loss: 0.9834\n",
      "Iteration [1760/4230] | D_real_loss: 0.0016 | D_fake_loss: 0.1966 | G_loss: 0.9942\n",
      "Iteration [1770/4230] | D_real_loss: 0.0005 | D_fake_loss: 0.0333 | G_loss: 0.9941\n",
      "Iteration [1780/4230] | D_real_loss: 0.4381 | D_fake_loss: 0.0000 | G_loss: 0.9989\n",
      "Iteration [1790/4230] | D_real_loss: 0.0019 | D_fake_loss: 0.2410 | G_loss: 0.5872\n"
     ]
    },
    {
     "name": "stderr",
     "output_type": "stream",
     "text": [
      "Lossy conversion from float32 to uint8. Range [-0.9999744296073914, 1.0]. Convert image to uint8 prior to saving to suppress this warning.\n"
     ]
    },
    {
     "name": "stdout",
     "output_type": "stream",
     "text": [
      "Iteration [1800/4230] | D_real_loss: 0.0206 | D_fake_loss: 0.0000 | G_loss: 0.9932\n",
      "Saved ./samples_vanilla\\sample-001800.png\n",
      "Iteration [1810/4230] | D_real_loss: 0.0003 | D_fake_loss: 0.0001 | G_loss: 0.9906\n",
      "Iteration [1820/4230] | D_real_loss: 0.0137 | D_fake_loss: 0.0000 | G_loss: 0.9800\n",
      "Iteration [1830/4230] | D_real_loss: 0.0002 | D_fake_loss: 0.0023 | G_loss: 0.9676\n",
      "Iteration [1840/4230] | D_real_loss: 0.0106 | D_fake_loss: 0.0004 | G_loss: 0.6893\n",
      "Iteration [1850/4230] | D_real_loss: 0.1300 | D_fake_loss: 0.0000 | G_loss: 0.9564\n",
      "Iteration [1860/4230] | D_real_loss: 0.2321 | D_fake_loss: 0.0000 | G_loss: 0.9494\n",
      "Iteration [1870/4230] | D_real_loss: 0.0254 | D_fake_loss: 0.0544 | G_loss: 0.9977\n",
      "Iteration [1880/4230] | D_real_loss: 0.0003 | D_fake_loss: 0.0403 | G_loss: 0.9998\n",
      "Iteration [1890/4230] | D_real_loss: 0.0012 | D_fake_loss: 0.0405 | G_loss: 0.9678\n",
      "Iteration [1900/4230] | D_real_loss: 0.0001 | D_fake_loss: 0.0287 | G_loss: 0.9832\n",
      "Iteration [1910/4230] | D_real_loss: 0.0113 | D_fake_loss: 0.0006 | G_loss: 0.9664\n",
      "Iteration [1920/4230] | D_real_loss: 0.0091 | D_fake_loss: 0.0000 | G_loss: 0.9137\n",
      "Iteration [1930/4230] | D_real_loss: 0.2259 | D_fake_loss: 0.0019 | G_loss: 0.4338\n",
      "Iteration [1940/4230] | D_real_loss: 0.3003 | D_fake_loss: 0.0014 | G_loss: 0.8428\n",
      "Iteration [1950/4230] | D_real_loss: 0.0011 | D_fake_loss: 0.0072 | G_loss: 0.9654\n",
      "Iteration [1960/4230] | D_real_loss: 0.0109 | D_fake_loss: 0.0002 | G_loss: 0.9532\n",
      "Iteration [1970/4230] | D_real_loss: 0.0019 | D_fake_loss: 0.0019 | G_loss: 0.9751\n",
      "Iteration [1980/4230] | D_real_loss: 0.0021 | D_fake_loss: 0.0002 | G_loss: 0.9839\n",
      "Iteration [1990/4230] | D_real_loss: 0.0001 | D_fake_loss: 0.0768 | G_loss: 0.9968\n"
     ]
    },
    {
     "name": "stderr",
     "output_type": "stream",
     "text": [
      "Lossy conversion from float32 to uint8. Range [-1.0, 1.0]. Convert image to uint8 prior to saving to suppress this warning.\n"
     ]
    },
    {
     "name": "stdout",
     "output_type": "stream",
     "text": [
      "Iteration [2000/4230] | D_real_loss: 0.0336 | D_fake_loss: 0.0194 | G_loss: 0.7574\n",
      "Saved ./samples_vanilla\\sample-002000.png\n",
      "Iteration [2010/4230] | D_real_loss: 0.0179 | D_fake_loss: 0.1398 | G_loss: 0.9664\n",
      "Iteration [2020/4230] | D_real_loss: 0.0050 | D_fake_loss: 0.0479 | G_loss: 0.8702\n",
      "Iteration [2030/4230] | D_real_loss: 0.1523 | D_fake_loss: 0.0581 | G_loss: 0.9071\n",
      "Iteration [2040/4230] | D_real_loss: 0.1400 | D_fake_loss: 0.0045 | G_loss: 0.8049\n",
      "Iteration [2050/4230] | D_real_loss: 0.0027 | D_fake_loss: 0.1339 | G_loss: 0.9890\n",
      "Iteration [2060/4230] | D_real_loss: 0.0158 | D_fake_loss: 0.0551 | G_loss: 0.9282\n",
      "Iteration [2070/4230] | D_real_loss: 0.0093 | D_fake_loss: 0.0276 | G_loss: 0.9172\n",
      "Iteration [2080/4230] | D_real_loss: 0.0642 | D_fake_loss: 0.0000 | G_loss: 0.9921\n",
      "Iteration [2090/4230] | D_real_loss: 0.0052 | D_fake_loss: 0.1216 | G_loss: 0.9981\n",
      "Iteration [2100/4230] | D_real_loss: 0.0056 | D_fake_loss: 0.0245 | G_loss: 0.9157\n",
      "Iteration [2110/4230] | D_real_loss: 0.0043 | D_fake_loss: 0.1245 | G_loss: 0.9529\n",
      "Iteration [2120/4230] | D_real_loss: 0.1894 | D_fake_loss: 0.0002 | G_loss: 0.8263\n",
      "Iteration [2130/4230] | D_real_loss: 0.0002 | D_fake_loss: 0.0926 | G_loss: 0.9831\n",
      "Iteration [2140/4230] | D_real_loss: 0.0044 | D_fake_loss: 0.1364 | G_loss: 0.9928\n",
      "Iteration [2150/4230] | D_real_loss: 0.0433 | D_fake_loss: 0.0005 | G_loss: 0.8518\n",
      "Iteration [2160/4230] | D_real_loss: 0.0686 | D_fake_loss: 0.0093 | G_loss: 0.4803\n",
      "Iteration [2170/4230] | D_real_loss: 0.0021 | D_fake_loss: 0.0033 | G_loss: 0.9479\n",
      "Iteration [2180/4230] | D_real_loss: 0.0002 | D_fake_loss: 0.1186 | G_loss: 0.9934\n",
      "Iteration [2190/4230] | D_real_loss: 0.0047 | D_fake_loss: 0.0553 | G_loss: 0.9515\n"
     ]
    },
    {
     "name": "stderr",
     "output_type": "stream",
     "text": [
      "Lossy conversion from float32 to uint8. Range [-1.0, 1.0]. Convert image to uint8 prior to saving to suppress this warning.\n"
     ]
    },
    {
     "name": "stdout",
     "output_type": "stream",
     "text": [
      "Iteration [2200/4230] | D_real_loss: 0.0495 | D_fake_loss: 0.0048 | G_loss: 0.9381\n",
      "Saved ./samples_vanilla\\sample-002200.png\n",
      "Iteration [2210/4230] | D_real_loss: 0.0000 | D_fake_loss: 0.1888 | G_loss: 0.9929\n",
      "Iteration [2220/4230] | D_real_loss: 0.0474 | D_fake_loss: 0.0019 | G_loss: 0.8699\n",
      "Iteration [2230/4230] | D_real_loss: 0.0114 | D_fake_loss: 0.0508 | G_loss: 0.9498\n",
      "Iteration [2240/4230] | D_real_loss: 0.0638 | D_fake_loss: 0.0026 | G_loss: 0.9092\n",
      "Iteration [2250/4230] | D_real_loss: 0.0763 | D_fake_loss: 0.0222 | G_loss: 0.6038\n",
      "Iteration [2260/4230] | D_real_loss: 0.0169 | D_fake_loss: 0.1007 | G_loss: 0.9630\n",
      "Iteration [2270/4230] | D_real_loss: 0.0189 | D_fake_loss: 0.0805 | G_loss: 0.8102\n",
      "Iteration [2280/4230] | D_real_loss: 0.1033 | D_fake_loss: 0.0005 | G_loss: 0.8639\n",
      "Iteration [2290/4230] | D_real_loss: 0.0760 | D_fake_loss: 0.0156 | G_loss: 0.7382\n",
      "Iteration [2300/4230] | D_real_loss: 0.0353 | D_fake_loss: 0.0131 | G_loss: 0.9545\n",
      "Iteration [2310/4230] | D_real_loss: 0.0224 | D_fake_loss: 0.0598 | G_loss: 0.9460\n",
      "Iteration [2320/4230] | D_real_loss: 0.0088 | D_fake_loss: 0.0362 | G_loss: 0.8601\n",
      "Iteration [2330/4230] | D_real_loss: 0.0187 | D_fake_loss: 0.0081 | G_loss: 0.8557\n",
      "Iteration [2340/4230] | D_real_loss: 0.0654 | D_fake_loss: 0.0027 | G_loss: 0.5563\n",
      "Iteration [2350/4230] | D_real_loss: 0.0056 | D_fake_loss: 0.0172 | G_loss: 0.9648\n",
      "Iteration [2360/4230] | D_real_loss: 0.0652 | D_fake_loss: 0.0313 | G_loss: 0.9525\n",
      "Iteration [2370/4230] | D_real_loss: 0.0195 | D_fake_loss: 0.0098 | G_loss: 0.7630\n",
      "Iteration [2380/4230] | D_real_loss: 0.1330 | D_fake_loss: 0.0082 | G_loss: 0.7586\n",
      "Iteration [2390/4230] | D_real_loss: 0.0329 | D_fake_loss: 0.0458 | G_loss: 0.7583\n"
     ]
    },
    {
     "name": "stderr",
     "output_type": "stream",
     "text": [
      "Lossy conversion from float32 to uint8. Range [-1.0, 1.0]. Convert image to uint8 prior to saving to suppress this warning.\n"
     ]
    },
    {
     "name": "stdout",
     "output_type": "stream",
     "text": [
      "Iteration [2400/4230] | D_real_loss: 0.0544 | D_fake_loss: 0.0008 | G_loss: 0.9296\n",
      "Saved ./samples_vanilla\\sample-002400.png\n",
      "Iteration [2410/4230] | D_real_loss: 0.0028 | D_fake_loss: 0.0388 | G_loss: 0.6946\n",
      "Iteration [2420/4230] | D_real_loss: 0.0050 | D_fake_loss: 0.0300 | G_loss: 0.6060\n",
      "Iteration [2430/4230] | D_real_loss: 0.0365 | D_fake_loss: 0.0270 | G_loss: 0.9451\n",
      "Iteration [2440/4230] | D_real_loss: 0.0675 | D_fake_loss: 0.0512 | G_loss: 0.9747\n",
      "Iteration [2450/4230] | D_real_loss: 0.0033 | D_fake_loss: 0.0090 | G_loss: 0.9188\n",
      "Iteration [2460/4230] | D_real_loss: 0.0290 | D_fake_loss: 0.0014 | G_loss: 0.9031\n",
      "Iteration [2470/4230] | D_real_loss: 0.0645 | D_fake_loss: 0.0004 | G_loss: 0.9486\n",
      "Iteration [2480/4230] | D_real_loss: 0.0434 | D_fake_loss: 0.0402 | G_loss: 0.8707\n",
      "Iteration [2490/4230] | D_real_loss: 0.0699 | D_fake_loss: 0.0037 | G_loss: 0.8295\n",
      "Iteration [2500/4230] | D_real_loss: 0.0177 | D_fake_loss: 0.0222 | G_loss: 0.9126\n",
      "Iteration [2510/4230] | D_real_loss: 0.0004 | D_fake_loss: 0.1770 | G_loss: 0.9717\n",
      "Iteration [2520/4230] | D_real_loss: 0.0113 | D_fake_loss: 0.0015 | G_loss: 0.8718\n",
      "Iteration [2530/4230] | D_real_loss: 0.0230 | D_fake_loss: 0.0298 | G_loss: 0.9910\n",
      "Iteration [2540/4230] | D_real_loss: 0.0557 | D_fake_loss: 0.0000 | G_loss: 0.9228\n",
      "Iteration [2550/4230] | D_real_loss: 0.0052 | D_fake_loss: 0.0469 | G_loss: 0.9543\n",
      "Iteration [2560/4230] | D_real_loss: 0.0347 | D_fake_loss: 0.0057 | G_loss: 0.9687\n",
      "Iteration [2570/4230] | D_real_loss: 0.0154 | D_fake_loss: 0.0105 | G_loss: 0.8680\n",
      "Iteration [2580/4230] | D_real_loss: 0.0003 | D_fake_loss: 0.0684 | G_loss: 0.8439\n",
      "Iteration [2590/4230] | D_real_loss: 0.0040 | D_fake_loss: 0.0737 | G_loss: 0.8552\n"
     ]
    },
    {
     "name": "stderr",
     "output_type": "stream",
     "text": [
      "Lossy conversion from float32 to uint8. Range [-1.0, 1.0]. Convert image to uint8 prior to saving to suppress this warning.\n"
     ]
    },
    {
     "name": "stdout",
     "output_type": "stream",
     "text": [
      "Iteration [2600/4230] | D_real_loss: 0.0014 | D_fake_loss: 0.0289 | G_loss: 0.9187\n",
      "Saved ./samples_vanilla\\sample-002600.png\n",
      "Iteration [2610/4230] | D_real_loss: 0.1064 | D_fake_loss: 0.0060 | G_loss: 0.9271\n",
      "Iteration [2620/4230] | D_real_loss: 0.0007 | D_fake_loss: 0.0033 | G_loss: 0.8661\n",
      "Iteration [2630/4230] | D_real_loss: 0.0075 | D_fake_loss: 0.1294 | G_loss: 0.9367\n",
      "Iteration [2640/4230] | D_real_loss: 0.0356 | D_fake_loss: 0.0148 | G_loss: 0.8857\n",
      "Iteration [2650/4230] | D_real_loss: 0.0611 | D_fake_loss: 0.0423 | G_loss: 0.7285\n",
      "Iteration [2660/4230] | D_real_loss: 0.0064 | D_fake_loss: 0.1418 | G_loss: 0.8732\n",
      "Iteration [2670/4230] | D_real_loss: 0.0305 | D_fake_loss: 0.0133 | G_loss: 0.4763\n",
      "Iteration [2680/4230] | D_real_loss: 0.0151 | D_fake_loss: 0.0205 | G_loss: 0.9596\n",
      "Iteration [2690/4230] | D_real_loss: 0.0137 | D_fake_loss: 0.0165 | G_loss: 0.7849\n",
      "Iteration [2700/4230] | D_real_loss: 0.0094 | D_fake_loss: 0.0462 | G_loss: 0.9606\n",
      "Iteration [2710/4230] | D_real_loss: 0.0300 | D_fake_loss: 0.0417 | G_loss: 0.8043\n",
      "Iteration [2720/4230] | D_real_loss: 0.0242 | D_fake_loss: 0.0018 | G_loss: 0.6698\n",
      "Iteration [2730/4230] | D_real_loss: 0.0474 | D_fake_loss: 0.0312 | G_loss: 0.6083\n",
      "Iteration [2740/4230] | D_real_loss: 0.0697 | D_fake_loss: 0.0120 | G_loss: 0.6166\n",
      "Iteration [2750/4230] | D_real_loss: 0.1197 | D_fake_loss: 0.0082 | G_loss: 0.6702\n",
      "Iteration [2760/4230] | D_real_loss: 0.0186 | D_fake_loss: 0.0068 | G_loss: 0.9080\n",
      "Iteration [2770/4230] | D_real_loss: 0.0039 | D_fake_loss: 0.0087 | G_loss: 0.7929\n",
      "Iteration [2780/4230] | D_real_loss: 0.0499 | D_fake_loss: 0.0014 | G_loss: 0.8975\n",
      "Iteration [2790/4230] | D_real_loss: 0.0025 | D_fake_loss: 0.0284 | G_loss: 0.9967\n"
     ]
    },
    {
     "name": "stderr",
     "output_type": "stream",
     "text": [
      "Lossy conversion from float32 to uint8. Range [-0.9999709725379944, 1.0]. Convert image to uint8 prior to saving to suppress this warning.\n"
     ]
    },
    {
     "name": "stdout",
     "output_type": "stream",
     "text": [
      "Iteration [2800/4230] | D_real_loss: 0.0428 | D_fake_loss: 0.0068 | G_loss: 0.6693\n",
      "Saved ./samples_vanilla\\sample-002800.png\n",
      "Iteration [2810/4230] | D_real_loss: 0.0054 | D_fake_loss: 0.0175 | G_loss: 0.8508\n",
      "Iteration [2820/4230] | D_real_loss: 0.0959 | D_fake_loss: 0.0252 | G_loss: 0.9188\n",
      "Iteration [2830/4230] | D_real_loss: 0.0009 | D_fake_loss: 0.1873 | G_loss: 0.9317\n",
      "Iteration [2840/4230] | D_real_loss: 0.0050 | D_fake_loss: 0.0942 | G_loss: 0.8972\n",
      "Iteration [2850/4230] | D_real_loss: 0.0155 | D_fake_loss: 0.0500 | G_loss: 0.8990\n",
      "Iteration [2860/4230] | D_real_loss: 0.0105 | D_fake_loss: 0.0511 | G_loss: 0.8635\n",
      "Iteration [2870/4230] | D_real_loss: 0.0060 | D_fake_loss: 0.0074 | G_loss: 0.9037\n",
      "Iteration [2880/4230] | D_real_loss: 0.0462 | D_fake_loss: 0.0120 | G_loss: 0.9337\n",
      "Iteration [2890/4230] | D_real_loss: 0.0030 | D_fake_loss: 0.0337 | G_loss: 0.8932\n",
      "Iteration [2900/4230] | D_real_loss: 0.0047 | D_fake_loss: 0.0031 | G_loss: 0.9743\n",
      "Iteration [2910/4230] | D_real_loss: 0.0181 | D_fake_loss: 0.0150 | G_loss: 0.7241\n",
      "Iteration [2920/4230] | D_real_loss: 0.0008 | D_fake_loss: 0.0269 | G_loss: 0.8730\n",
      "Iteration [2930/4230] | D_real_loss: 0.0169 | D_fake_loss: 0.0220 | G_loss: 0.9769\n",
      "Iteration [2940/4230] | D_real_loss: 0.0655 | D_fake_loss: 0.0010 | G_loss: 0.6759\n",
      "Iteration [2950/4230] | D_real_loss: 0.0069 | D_fake_loss: 0.0011 | G_loss: 0.9537\n",
      "Iteration [2960/4230] | D_real_loss: 0.0004 | D_fake_loss: 0.0986 | G_loss: 0.9151\n",
      "Iteration [2970/4230] | D_real_loss: 0.0464 | D_fake_loss: 0.0007 | G_loss: 0.7969\n",
      "Iteration [2980/4230] | D_real_loss: 0.0503 | D_fake_loss: 0.0002 | G_loss: 0.9313\n",
      "Iteration [2990/4230] | D_real_loss: 0.0700 | D_fake_loss: 0.0013 | G_loss: 0.8880\n"
     ]
    },
    {
     "name": "stderr",
     "output_type": "stream",
     "text": [
      "Lossy conversion from float32 to uint8. Range [-0.9999716281890869, 0.9999999403953552]. Convert image to uint8 prior to saving to suppress this warning.\n"
     ]
    },
    {
     "name": "stdout",
     "output_type": "stream",
     "text": [
      "Iteration [3000/4230] | D_real_loss: 0.0092 | D_fake_loss: 0.0002 | G_loss: 0.9868\n",
      "Saved ./samples_vanilla\\sample-003000.png\n",
      "Iteration [3010/4230] | D_real_loss: 0.0144 | D_fake_loss: 0.0044 | G_loss: 0.9021\n",
      "Iteration [3020/4230] | D_real_loss: 0.0188 | D_fake_loss: 0.0000 | G_loss: 0.9794\n",
      "Iteration [3030/4230] | D_real_loss: 0.0024 | D_fake_loss: 0.1250 | G_loss: 0.9705\n",
      "Iteration [3040/4230] | D_real_loss: 0.0238 | D_fake_loss: 0.0009 | G_loss: 0.8731\n",
      "Iteration [3050/4230] | D_real_loss: 0.0071 | D_fake_loss: 0.0228 | G_loss: 0.7310\n",
      "Iteration [3060/4230] | D_real_loss: 0.0141 | D_fake_loss: 0.0229 | G_loss: 0.9141\n",
      "Iteration [3070/4230] | D_real_loss: 0.0019 | D_fake_loss: 0.0393 | G_loss: 0.9129\n",
      "Iteration [3080/4230] | D_real_loss: 0.0560 | D_fake_loss: 0.0176 | G_loss: 0.6824\n",
      "Iteration [3090/4230] | D_real_loss: 0.0010 | D_fake_loss: 0.0362 | G_loss: 0.9680\n",
      "Iteration [3100/4230] | D_real_loss: 0.0099 | D_fake_loss: 0.1176 | G_loss: 0.9139\n",
      "Iteration [3110/4230] | D_real_loss: 0.0009 | D_fake_loss: 0.0075 | G_loss: 0.9179\n",
      "Iteration [3120/4230] | D_real_loss: 0.0129 | D_fake_loss: 0.0759 | G_loss: 0.8678\n",
      "Iteration [3130/4230] | D_real_loss: 0.0267 | D_fake_loss: 0.0673 | G_loss: 0.8478\n",
      "Iteration [3140/4230] | D_real_loss: 0.0189 | D_fake_loss: 0.0458 | G_loss: 0.6787\n",
      "Iteration [3150/4230] | D_real_loss: 0.0311 | D_fake_loss: 0.0001 | G_loss: 0.9922\n",
      "Iteration [3160/4230] | D_real_loss: 0.0126 | D_fake_loss: 0.0073 | G_loss: 0.9025\n",
      "Iteration [3170/4230] | D_real_loss: 0.0602 | D_fake_loss: 0.0205 | G_loss: 0.5904\n",
      "Iteration [3180/4230] | D_real_loss: 0.0003 | D_fake_loss: 0.0672 | G_loss: 0.9588\n",
      "Iteration [3190/4230] | D_real_loss: 0.0367 | D_fake_loss: 0.0049 | G_loss: 0.8839\n"
     ]
    },
    {
     "name": "stderr",
     "output_type": "stream",
     "text": [
      "Lossy conversion from float32 to uint8. Range [-0.9999716281890869, 0.9999988675117493]. Convert image to uint8 prior to saving to suppress this warning.\n"
     ]
    },
    {
     "name": "stdout",
     "output_type": "stream",
     "text": [
      "Iteration [3200/4230] | D_real_loss: 0.0435 | D_fake_loss: 0.0133 | G_loss: 0.7426\n",
      "Saved ./samples_vanilla\\sample-003200.png\n",
      "Iteration [3210/4230] | D_real_loss: 0.0274 | D_fake_loss: 0.0093 | G_loss: 0.7499\n",
      "Iteration [3220/4230] | D_real_loss: 0.0158 | D_fake_loss: 0.0011 | G_loss: 0.6292\n",
      "Iteration [3230/4230] | D_real_loss: 0.0064 | D_fake_loss: 0.0598 | G_loss: 0.9364\n",
      "Iteration [3240/4230] | D_real_loss: 0.0638 | D_fake_loss: 0.0035 | G_loss: 0.4712\n",
      "Iteration [3250/4230] | D_real_loss: 0.0687 | D_fake_loss: 0.0006 | G_loss: 0.7894\n",
      "Iteration [3260/4230] | D_real_loss: 0.0075 | D_fake_loss: 0.0436 | G_loss: 0.9308\n",
      "Iteration [3270/4230] | D_real_loss: 0.1604 | D_fake_loss: 0.0015 | G_loss: 0.5537\n",
      "Iteration [3280/4230] | D_real_loss: 0.1351 | D_fake_loss: 0.0006 | G_loss: 0.6572\n",
      "Iteration [3290/4230] | D_real_loss: 0.0194 | D_fake_loss: 0.0211 | G_loss: 0.9254\n",
      "Iteration [3300/4230] | D_real_loss: 0.0406 | D_fake_loss: 0.0007 | G_loss: 0.8324\n",
      "Iteration [3310/4230] | D_real_loss: 0.0105 | D_fake_loss: 0.0318 | G_loss: 0.9052\n",
      "Iteration [3320/4230] | D_real_loss: 0.1556 | D_fake_loss: 0.0002 | G_loss: 0.5318\n",
      "Iteration [3330/4230] | D_real_loss: 0.0014 | D_fake_loss: 0.0308 | G_loss: 0.9389\n",
      "Iteration [3340/4230] | D_real_loss: 0.0005 | D_fake_loss: 0.0348 | G_loss: 0.9414\n",
      "Iteration [3350/4230] | D_real_loss: 0.0107 | D_fake_loss: 0.0021 | G_loss: 0.7800\n",
      "Iteration [3360/4230] | D_real_loss: 0.0004 | D_fake_loss: 0.0763 | G_loss: 0.9836\n",
      "Iteration [3370/4230] | D_real_loss: 0.0012 | D_fake_loss: 0.0025 | G_loss: 0.9169\n",
      "Iteration [3380/4230] | D_real_loss: 0.0006 | D_fake_loss: 0.0563 | G_loss: 0.8069\n",
      "Iteration [3390/4230] | D_real_loss: 0.0224 | D_fake_loss: 0.0010 | G_loss: 0.7206\n"
     ]
    },
    {
     "name": "stderr",
     "output_type": "stream",
     "text": [
      "Lossy conversion from float32 to uint8. Range [-0.9997747540473938, 0.999996542930603]. Convert image to uint8 prior to saving to suppress this warning.\n"
     ]
    },
    {
     "name": "stdout",
     "output_type": "stream",
     "text": [
      "Iteration [3400/4230] | D_real_loss: 0.0016 | D_fake_loss: 0.0145 | G_loss: 0.8857\n",
      "Saved ./samples_vanilla\\sample-003400.png\n",
      "Iteration [3410/4230] | D_real_loss: 0.0053 | D_fake_loss: 0.0125 | G_loss: 0.9485\n",
      "Iteration [3420/4230] | D_real_loss: 0.1259 | D_fake_loss: 0.0001 | G_loss: 0.5781\n",
      "Iteration [3430/4230] | D_real_loss: 0.0078 | D_fake_loss: 0.0005 | G_loss: 0.9652\n",
      "Iteration [3440/4230] | D_real_loss: 0.0034 | D_fake_loss: 0.0349 | G_loss: 0.9225\n",
      "Iteration [3450/4230] | D_real_loss: 0.0544 | D_fake_loss: 0.0030 | G_loss: 0.7415\n",
      "Iteration [3460/4230] | D_real_loss: 0.0034 | D_fake_loss: 0.0213 | G_loss: 0.9143\n",
      "Iteration [3470/4230] | D_real_loss: 0.0382 | D_fake_loss: 0.0046 | G_loss: 0.2118\n",
      "Iteration [3480/4230] | D_real_loss: 0.0220 | D_fake_loss: 0.0634 | G_loss: 0.8636\n",
      "Iteration [3490/4230] | D_real_loss: 0.0425 | D_fake_loss: 0.0010 | G_loss: 0.9686\n",
      "Iteration [3500/4230] | D_real_loss: 0.0791 | D_fake_loss: 0.0001 | G_loss: 0.6857\n",
      "Iteration [3510/4230] | D_real_loss: 0.0026 | D_fake_loss: 0.0125 | G_loss: 0.9808\n",
      "Iteration [3520/4230] | D_real_loss: 0.0088 | D_fake_loss: 0.0279 | G_loss: 0.8827\n",
      "Iteration [3530/4230] | D_real_loss: 0.0856 | D_fake_loss: 0.0001 | G_loss: 0.6008\n",
      "Iteration [3540/4230] | D_real_loss: 0.0026 | D_fake_loss: 0.0120 | G_loss: 0.8077\n",
      "Iteration [3550/4230] | D_real_loss: 0.0013 | D_fake_loss: 0.0078 | G_loss: 0.8559\n",
      "Iteration [3560/4230] | D_real_loss: 0.0095 | D_fake_loss: 0.0045 | G_loss: 0.8547\n",
      "Iteration [3570/4230] | D_real_loss: 0.1035 | D_fake_loss: 0.0002 | G_loss: 0.7430\n",
      "Iteration [3580/4230] | D_real_loss: 0.0074 | D_fake_loss: 0.0219 | G_loss: 0.9410\n",
      "Iteration [3590/4230] | D_real_loss: 0.0287 | D_fake_loss: 0.0167 | G_loss: 0.7014\n"
     ]
    },
    {
     "name": "stderr",
     "output_type": "stream",
     "text": [
      "Lossy conversion from float32 to uint8. Range [-0.9993776082992554, 0.999964714050293]. Convert image to uint8 prior to saving to suppress this warning.\n"
     ]
    },
    {
     "name": "stdout",
     "output_type": "stream",
     "text": [
      "Iteration [3600/4230] | D_real_loss: 0.0004 | D_fake_loss: 0.0730 | G_loss: 0.9473\n",
      "Saved ./samples_vanilla\\sample-003600.png\n",
      "Iteration [3610/4230] | D_real_loss: 0.0003 | D_fake_loss: 0.0030 | G_loss: 0.6917\n",
      "Iteration [3620/4230] | D_real_loss: 0.0081 | D_fake_loss: 0.0001 | G_loss: 0.9915\n",
      "Iteration [3630/4230] | D_real_loss: 0.0387 | D_fake_loss: 0.0109 | G_loss: 0.8715\n",
      "Iteration [3640/4230] | D_real_loss: 0.1080 | D_fake_loss: 0.0018 | G_loss: 0.7255\n",
      "Iteration [3650/4230] | D_real_loss: 0.0004 | D_fake_loss: 0.0692 | G_loss: 0.9595\n",
      "Iteration [3660/4230] | D_real_loss: 0.0127 | D_fake_loss: 0.0045 | G_loss: 0.8877\n",
      "Iteration [3670/4230] | D_real_loss: 0.0223 | D_fake_loss: 0.0076 | G_loss: 0.8375\n",
      "Iteration [3680/4230] | D_real_loss: 0.0104 | D_fake_loss: 0.0117 | G_loss: 0.9137\n",
      "Iteration [3690/4230] | D_real_loss: 0.0351 | D_fake_loss: 0.0004 | G_loss: 0.9637\n",
      "Iteration [3700/4230] | D_real_loss: 0.0026 | D_fake_loss: 0.0114 | G_loss: 0.9211\n",
      "Iteration [3710/4230] | D_real_loss: 0.0071 | D_fake_loss: 0.0285 | G_loss: 0.8622\n",
      "Iteration [3720/4230] | D_real_loss: 0.0011 | D_fake_loss: 0.0520 | G_loss: 0.8316\n",
      "Iteration [3730/4230] | D_real_loss: 0.0056 | D_fake_loss: 0.0173 | G_loss: 0.9366\n",
      "Iteration [3740/4230] | D_real_loss: 0.0159 | D_fake_loss: 0.0001 | G_loss: 0.9755\n",
      "Iteration [3750/4230] | D_real_loss: 0.0086 | D_fake_loss: 0.0003 | G_loss: 0.9201\n",
      "Iteration [3760/4230] | D_real_loss: 0.0008 | D_fake_loss: 0.0034 | G_loss: 0.7856\n",
      "Iteration [3770/4230] | D_real_loss: 0.0022 | D_fake_loss: 0.0019 | G_loss: 0.9065\n",
      "Iteration [3780/4230] | D_real_loss: 0.0178 | D_fake_loss: 0.0002 | G_loss: 0.8741\n",
      "Iteration [3790/4230] | D_real_loss: 0.0031 | D_fake_loss: 0.0051 | G_loss: 0.9370\n"
     ]
    },
    {
     "name": "stderr",
     "output_type": "stream",
     "text": [
      "Lossy conversion from float32 to uint8. Range [-0.999980092048645, 0.9999712109565735]. Convert image to uint8 prior to saving to suppress this warning.\n"
     ]
    },
    {
     "name": "stdout",
     "output_type": "stream",
     "text": [
      "Iteration [3800/4230] | D_real_loss: 0.0050 | D_fake_loss: 0.0148 | G_loss: 0.8115\n",
      "Saved ./samples_vanilla\\sample-003800.png\n",
      "Iteration [3810/4230] | D_real_loss: 0.0159 | D_fake_loss: 0.0143 | G_loss: 0.8314\n",
      "Iteration [3820/4230] | D_real_loss: 0.0004 | D_fake_loss: 0.0041 | G_loss: 0.9224\n",
      "Iteration [3830/4230] | D_real_loss: 0.0003 | D_fake_loss: 0.0095 | G_loss: 0.8650\n",
      "Iteration [3840/4230] | D_real_loss: 0.0001 | D_fake_loss: 0.0222 | G_loss: 0.9412\n",
      "Iteration [3850/4230] | D_real_loss: 0.0099 | D_fake_loss: 0.0002 | G_loss: 0.9390\n",
      "Iteration [3860/4230] | D_real_loss: 0.0110 | D_fake_loss: 0.0022 | G_loss: 0.8514\n",
      "Iteration [3870/4230] | D_real_loss: 0.0279 | D_fake_loss: 0.0004 | G_loss: 0.8754\n",
      "Iteration [3880/4230] | D_real_loss: 0.0125 | D_fake_loss: 0.0013 | G_loss: 0.7688\n",
      "Iteration [3890/4230] | D_real_loss: 0.0029 | D_fake_loss: 0.0030 | G_loss: 0.9812\n",
      "Iteration [3900/4230] | D_real_loss: 0.0001 | D_fake_loss: 0.0550 | G_loss: 0.9834\n",
      "Iteration [3910/4230] | D_real_loss: 0.3291 | D_fake_loss: 0.0000 | G_loss: 0.9848\n",
      "Iteration [3920/4230] | D_real_loss: 0.0002 | D_fake_loss: 0.0020 | G_loss: 0.9594\n",
      "Iteration [3930/4230] | D_real_loss: 0.0002 | D_fake_loss: 0.0058 | G_loss: 0.9842\n",
      "Iteration [3940/4230] | D_real_loss: 0.0042 | D_fake_loss: 0.0025 | G_loss: 0.8708\n",
      "Iteration [3950/4230] | D_real_loss: 0.0636 | D_fake_loss: 0.0007 | G_loss: 0.6024\n",
      "Iteration [3960/4230] | D_real_loss: 0.0019 | D_fake_loss: 0.0096 | G_loss: 0.8992\n",
      "Iteration [3970/4230] | D_real_loss: 0.0191 | D_fake_loss: 0.0048 | G_loss: 0.9398\n",
      "Iteration [3980/4230] | D_real_loss: 0.0057 | D_fake_loss: 0.0075 | G_loss: 0.9330\n",
      "Iteration [3990/4230] | D_real_loss: 0.0019 | D_fake_loss: 0.0141 | G_loss: 0.9212\n"
     ]
    },
    {
     "name": "stderr",
     "output_type": "stream",
     "text": [
      "Lossy conversion from float32 to uint8. Range [-0.9987906217575073, 0.9999205470085144]. Convert image to uint8 prior to saving to suppress this warning.\n"
     ]
    },
    {
     "name": "stdout",
     "output_type": "stream",
     "text": [
      "Iteration [4000/4230] | D_real_loss: 0.0003 | D_fake_loss: 0.0009 | G_loss: 0.9682\n",
      "Saved ./samples_vanilla\\sample-004000.png\n",
      "Iteration [4010/4230] | D_real_loss: 0.0281 | D_fake_loss: 0.0058 | G_loss: 0.7378\n",
      "Iteration [4020/4230] | D_real_loss: 0.0003 | D_fake_loss: 0.0029 | G_loss: 0.8900\n",
      "Iteration [4030/4230] | D_real_loss: 0.0151 | D_fake_loss: 0.0045 | G_loss: 0.9655\n",
      "Iteration [4040/4230] | D_real_loss: 0.0037 | D_fake_loss: 0.0211 | G_loss: 0.9103\n",
      "Iteration [4050/4230] | D_real_loss: 0.0214 | D_fake_loss: 0.0001 | G_loss: 0.9740\n",
      "Iteration [4060/4230] | D_real_loss: 0.0003 | D_fake_loss: 0.0009 | G_loss: 0.9645\n",
      "Iteration [4070/4230] | D_real_loss: 0.0074 | D_fake_loss: 0.0107 | G_loss: 0.9582\n",
      "Iteration [4080/4230] | D_real_loss: 0.0067 | D_fake_loss: 0.0000 | G_loss: 0.9917\n",
      "Iteration [4090/4230] | D_real_loss: 0.0002 | D_fake_loss: 0.0341 | G_loss: 0.9540\n",
      "Iteration [4100/4230] | D_real_loss: 0.0002 | D_fake_loss: 0.0002 | G_loss: 0.9477\n",
      "Iteration [4110/4230] | D_real_loss: 0.0008 | D_fake_loss: 0.0079 | G_loss: 0.9149\n",
      "Iteration [4120/4230] | D_real_loss: 0.0005 | D_fake_loss: 0.0080 | G_loss: 0.9209\n",
      "Iteration [4130/4230] | D_real_loss: 0.0103 | D_fake_loss: 0.0002 | G_loss: 0.9612\n",
      "Iteration [4140/4230] | D_real_loss: 0.0067 | D_fake_loss: 0.0003 | G_loss: 0.9858\n",
      "Iteration [4150/4230] | D_real_loss: 0.0040 | D_fake_loss: 0.0007 | G_loss: 0.9764\n",
      "Iteration [4160/4230] | D_real_loss: 0.0000 | D_fake_loss: 0.0278 | G_loss: 0.9399\n",
      "Iteration [4170/4230] | D_real_loss: 0.0000 | D_fake_loss: 0.0075 | G_loss: 0.4765\n",
      "Iteration [4180/4230] | D_real_loss: 0.0059 | D_fake_loss: 0.0012 | G_loss: 0.9549\n",
      "Iteration [4190/4230] | D_real_loss: 0.0021 | D_fake_loss: 0.0013 | G_loss: 0.8577\n"
     ]
    },
    {
     "name": "stderr",
     "output_type": "stream",
     "text": [
      "Lossy conversion from float32 to uint8. Range [-0.9999571442604065, 0.9999994039535522]. Convert image to uint8 prior to saving to suppress this warning.\n"
     ]
    },
    {
     "name": "stdout",
     "output_type": "stream",
     "text": [
      "Iteration [4200/4230] | D_real_loss: 0.0230 | D_fake_loss: 0.0013 | G_loss: 0.8954\n",
      "Saved ./samples_vanilla\\sample-004200.png\n",
      "Iteration [4210/4230] | D_real_loss: 0.0010 | D_fake_loss: 0.0007 | G_loss: 0.8533\n",
      "Iteration [4220/4230] | D_real_loss: 0.0194 | D_fake_loss: 0.0081 | G_loss: 0.8789\n",
      "Iteration [4230/4230] | D_real_loss: 0.0001 | D_fake_loss: 0.1497 | G_loss: 0.9839\n"
     ]
    },
    {
     "data": {
      "image/png": "[encoded data removed]",
      "text/plain": [
       "<Figure size 640x480 with 1 Axes>"
      ]
     },
     "metadata": {},
     "output_type": "display_data"
    }
   ],
   "source": [
    "#  COMP 6211D & ELEC 6910T , Assignment 3\n",
    "#\n",
    "# This is the main training file for the vanilla GAN part of the assignment.\n",
    "#\n",
    "# Usage:\n",
    "# ======\n",
    "#    To train with the default hyperparamters (saves results to checkpoints_vanilla/ and samples_vanilla/):\n",
    "#       python vanilla_gan.py\n",
    "\n",
    "import os\n",
    "import argparse\n",
    "import warnings\n",
    "import numpy as np\n",
    "warnings.filterwarnings(\"ignore\")\n",
    "\n",
    "# Torch imports\n",
    "import torch\n",
    "import torch.nn as nn\n",
    "import torch.optim as optim\n",
    "\n",
    "# Local imports\n",
    "from data_loader import get_emoji_loader\n",
    "from models import CycleGenerator, DCDiscriminator\n",
    "from vanilla_utils import create_dir, create_model, checkpoint, sample_noise, save_samples\n",
    "\n",
    "import matplotlib.pyplot as plt\n",
    "\n",
    "SEED = 11\n",
    "\n",
    "# Set the random seed manually for reproducibility.\n",
    "np.random.seed(SEED)\n",
    "torch.manual_seed(SEED)\n",
    "\n",
    "def train(train_loader, opt, device):\n",
    "    \n",
    "    G, D = create_model(opts)\n",
    "    \n",
    "    G.to(device)\n",
    "    D.to(device)\n",
    "    \n",
    "    g_optimizer = optim.Adam(G.parameters(), opts.lr, [opts.beta1, opts.beta2])\n",
    "    d_optimizer = optim.Adam(D.parameters(), opts.lr, [opts.beta1, opts.beta2])\n",
    "    \n",
    "    fixed_noise = sample_noise(16, opts.noise_size).to(device)\n",
    "    \n",
    "    iteration = 1\n",
    "    \n",
    "    mse_loss = torch.nn.MSELoss()\n",
    "#     bce_loss = torch.nn.BCELoss()\n",
    "    total_train_iters = opts.num_epochs * len(train_loader)\n",
    "    \n",
    "    for epoch in range(opts.num_epochs):\n",
    "\n",
    "        total_G_loss_in_this_epoch  = 0\n",
    "        total_D_real_loss_in_this_epoch = 0\n",
    "        total_D_fake_loss_in_this_epoch = 0\n",
    "\n",
    "        for batch in train_loader:\n",
    "\n",
    "            real_images = batch[0].to(device)\n",
    "\n",
    "            ################################################\n",
    "            ###         TRAIN THE DISCRIMINATOR         ####\n",
    "            ################################################\n",
    "\n",
    "            d_optimizer.zero_grad()\n",
    "\n",
    "            m = opt.batch_size\n",
    "            \n",
    "            # FILL THIS IN\n",
    "            # 1. Compute the discriminator loss on real images\n",
    "            D_real_loss = torch.sum(torch.square(D(real_images) - 1))/(2*m)\n",
    "\n",
    "            # 2. Sample noise\n",
    "            noise = sample_noise(m, opts.noise_size)\n",
    "            \n",
    "            # 3. Generate fake images from the noise\n",
    "            fake_images = G(noise)\n",
    "\n",
    "            # 4. Compute the discriminator loss on the fake images\n",
    "            D_fake_loss = torch.sum(torch.square(D(fake_images)))/(2*m)\n",
    "            \n",
    "            # 5. Compute the total discriminator loss\n",
    "            D_total_loss = D_real_loss + D_fake_loss\n",
    "            total_D_real_loss_in_this_epoch+=D_real_loss\n",
    "            total_D_fake_loss_in_this_epoch+=D_fake_loss\n",
    "    \n",
    "            D_total_loss.backward()\n",
    "            d_optimizer.step()\n",
    "\n",
    "            ###########################################\n",
    "            ###          TRAIN THE GENERATOR        ###\n",
    "            ###########################################\n",
    "\n",
    "            g_optimizer.zero_grad()\n",
    "\n",
    "            # FILL THIS IN\n",
    "            # 1. Sample noise\n",
    "            noise = sample_noise(m, opts.noise_size)\n",
    "            \n",
    "            # 2. Generate fake images from the noise\n",
    "            fake_images = G(noise)\n",
    "            \n",
    "            # 3. Compute the generator loss\n",
    "            G_loss = torch.sum(torch.square(D(fake_images) - 1))/m\n",
    "            total_G_loss_in_this_epoch+=G_loss\n",
    "\n",
    "            G_loss.backward()\n",
    "            g_optimizer.step()\n",
    "\n",
    "\n",
    "            # Print the log info\n",
    "            if iteration % opts.log_step == 0:\n",
    "                print('Iteration [{:4d}/{:4d}] | D_real_loss: {:6.4f} | D_fake_loss: {:6.4f} | G_loss: {:6.4f}'.format(\n",
    "                       iteration, total_train_iters, D_real_loss.item(), D_fake_loss.item(), G_loss.item()))\n",
    "\n",
    "            # Save the generated samples\n",
    "            if iteration % opts.sample_every == 0:\n",
    "                save_samples(G, fixed_noise, iteration, opts)\n",
    "\n",
    "            # Save the model parameters\n",
    "            if iteration % opts.checkpoint_every == 0:\n",
    "                checkpoint(iteration, G, D, opts)\n",
    "\n",
    "            iteration += 1\n",
    "            \n",
    "        G_losses.append((total_G_loss_in_this_epoch/len(train_loader)).item())\n",
    "        D_real_losses.append((total_D_real_loss_in_this_epoch/len(train_loader)).item())\n",
    "        D_fake_losses.append((total_D_fake_loss_in_this_epoch/len(train_loader)).item())\n",
    "\n",
    "def main(opts):\n",
    "    \"\"\"Loads the data, creates checkpoint and sample directories, and starts the training loop.\n",
    "    \"\"\"\n",
    "\n",
    "    # Create a dataloader for the training images\n",
    "    train_loader, _ = get_emoji_loader(opts.emoji, opts)\n",
    "\n",
    "    # Create checkpoint and sample directories\n",
    "    create_dir(opts.checkpoint_dir)\n",
    "    create_dir(opts.sample_dir)\n",
    "    \n",
    "    #if torch.cuda.is_available():\n",
    "    #    device = torch.device('cpu')\n",
    "    #else:\n",
    "    #    device = torch.device('cuda')\n",
    "    device = torch.device('cuda' if torch.cuda.is_available() else 'cpu')\n",
    "\n",
    "    train(train_loader, opts, device)\n",
    "\n",
    "\n",
    "def create_parser():\n",
    "    \"\"\"Creates a parser for command-line arguments.\n",
    "    \"\"\"\n",
    "    parser = argparse.ArgumentParser()\n",
    "\n",
    "    # Model hyper-parameters\n",
    "    parser.add_argument('--image_size', type=int, default=32, help='The side length N to convert images to NxN.')\n",
    "    parser.add_argument('--conv_dim', type=int, default=32)\n",
    "    parser.add_argument('--noise_size', type=int, default=100)\n",
    "\n",
    "    # Training hyper-parameters\n",
    "    parser.add_argument('--num_epochs', type=int, default=30)\n",
    "    parser.add_argument('--batch_size', type=int, default=16, help='The number of images in a batch.')\n",
    "    parser.add_argument('--num_workers', type=int, default=0, help='The number of threads to use for the DataLoader.')\n",
    "    parser.add_argument('--lr', type=float, default=0.001, help='The learning rate (default 0.0003)')\n",
    "    parser.add_argument('--beta1', type=float, default=0.5)\n",
    "    parser.add_argument('--beta2', type=float, default=0.999)\n",
    "\n",
    "    # Data sources\n",
    "    parser.add_argument('--emoji', type=str, default='Apple', choices=['Apple', 'Facebook', 'Windows'], help='Choose the type of emojis to generate.')\n",
    "\n",
    "    # Directories and checkpoint/sample iterations\n",
    "    parser.add_argument('--checkpoint_dir', type=str, default='./checkpoints_vanilla')\n",
    "    parser.add_argument('--sample_dir', type=str, default='./samples_vanilla')\n",
    "    parser.add_argument('--log_step', type=int , default=10)\n",
    "    parser.add_argument('--sample_every', type=int , default=200)\n",
    "    parser.add_argument('--checkpoint_every', type=int , default=400)\n",
    "\n",
    "    return parser\n",
    "\n",
    "\n",
    "if __name__ == '__main__':\n",
    "    \n",
    "    parser = create_parser()\n",
    "    opts, unknown = parser.parse_known_args()\n",
    "    #opts = parser.parse_args()\n",
    "\n",
    "    batch_size = opts.batch_size\n",
    "\n",
    "    D_real_losses =[]\n",
    "    D_fake_losses=[]\n",
    "    G_losses = []\n",
    "\n",
    "    print(opts)\n",
    "    main(opts)\n",
    "\n",
    "    fig, axs = plt.subplots(1, 1)\n",
    "    fig.suptitle(r\"loss change with epochs\", fontsize=20)\n",
    "    epochs = np.arange(1, opts.num_epochs+1, 1)\n",
    "\n",
    "    D_total_losses = np.add(D_real_losses, D_fake_losses)\n",
    "    axs.plot(epochs, D_real_losses) \n",
    "    axs.plot(epochs, D_fake_losses) \n",
    "    axs.plot(epochs, G_losses)\n",
    "    axs.plot(epochs, D_total_losses)\n",
    "    \n",
    "    plt.xlabel(\"epoch\")\n",
    "    plt.ylabel(\"Loss\")\n",
    "    plt.legend(['Descriminator Real Loss','Descriminator Fake Loss','Generator Loss', \"Descriminator Total Loss\"], loc='upper right')\n",
    "    plt.show()\n",
    "\n"
   ]
  },
  {
   "cell_type": "code",
   "execution_count": 3,
   "id": "d115a383-625b-4a39-a933-477d8da9e04d",
   "metadata": {},
   "outputs": [
    {
     "data": {
      "image/png": "[encoded data removed]",
      "text/plain": [
       "<Figure size 640x480 with 1 Axes>"
      ]
     },
     "metadata": {},
     "output_type": "display_data"
    }
   ],
   "source": [
    "fig, axs = plt.subplots(1, 1)\n",
    "#fig.suptitle(\"loss graph\")\n",
    "epochs = np.arange(1, opts.num_epochs+1, 1)\n",
    "\n",
    "D_total_losses = np.add(D_real_losses, D_fake_losses)\n",
    "axs.plot(epochs, D_real_losses) \n",
    "axs.plot(epochs, D_fake_losses) \n",
    "axs.plot(epochs, G_losses)\n",
    "axs.plot(epochs, D_total_losses)\n",
    "    \n",
    "plt.xlabel(\"epoch\")\n",
    "plt.ylabel(\"loss\")\n",
    "plt.legend(['Descriminator Real Loss','Descriminator Fake Loss','Generator Loss', \"Descriminator Total Loss\"], loc='lower right')\n",
    "plt.show()"
   ]
  },
  {
   "cell_type": "code",
   "execution_count": 3,
   "id": "e05380ac-c951-4b64-8662-6844716e60b6",
   "metadata": {},
   "outputs": [
    {
     "data": {
      "image/png": "[encoded data removed]",
      "text/plain": [
       "<Figure size 640x480 with 1 Axes>"
      ]
     },
     "metadata": {},
     "output_type": "display_data"
    }
   ],
   "source": [
    "# Limit the data to the first 100 epochs\n",
    "epochs1 = np.arange(1, min(101, opts.num_epochs + 1), 1)\n",
    "D_real_losses1 = D_real_losses[:100]\n",
    "D_fake_losses1 = D_fake_losses[:100]\n",
    "G_losses1 = G_losses[:100]\n",
    "D_total_losses1 = np.add(D_real_losses1, D_fake_losses1)\n",
    "\n",
    "fig, axs = plt.subplots(1, 1)\n",
    "fig.suptitle(\"Loss change with epochs\")\n",
    "axs.plot(epochs1, D_real_losses1) \n",
    "axs.plot(epochs1, D_fake_losses1) \n",
    "axs.plot(epochs1, G_losses1)\n",
    "axs.plot(epochs1, D_total_losses1)\n",
    "    \n",
    "plt.xlabel(\"Epoch\")\n",
    "plt.ylabel(\"Loss\")\n",
    "plt.legend(['Descriminator Real Loss','Descriminator Fake Loss','Generator Loss', \"Descriminator Total Loss\"], loc='upper right')\n",
    "plt.show()"
   ]
  },
  {
   "cell_type": "code",
   "execution_count": null,
   "id": "f9992140-7fbd-4859-8eba-1794e70459b1",
   "metadata": {},
   "outputs": [],
   "source": []
  }
 ],
 "metadata": {
  "kernelspec": {
   "display_name": "Python 3 (ipykernel)",
   "language": "python",
   "name": "python3"
  },
  "language_info": {
   "codemirror_mode": {
    "name": "ipython",
    "version": 3
   },
   "file_extension": ".py",
   "mimetype": "text/x-python",
   "name": "python",
   "nbconvert_exporter": "python",
   "pygments_lexer": "ipython3",
   "version": "3.9.11"
  }
 },
 "nbformat": 4,
 "nbformat_minor": 5
}
